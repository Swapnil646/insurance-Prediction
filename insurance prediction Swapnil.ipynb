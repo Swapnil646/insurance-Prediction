{
 "cells": [
  {
   "cell_type": "markdown",
   "id": "3ddbd717",
   "metadata": {},
   "source": [
    "# Task 1:Create a predictive model which will help the insurance marketing team to know which customer will buy the product."
   ]
  },
  {
   "cell_type": "code",
   "execution_count": 1,
   "id": "3b42ae9f",
   "metadata": {},
   "outputs": [],
   "source": [
    "#\"\"\" Importing the libraries\n",
    "import numpy as np\n",
    "import pandas as pd\n",
    "import seaborn as sns\n",
    "import matplotlib.pyplot as plt\n",
    "import warnings\n",
    "warnings.filterwarnings('ignore')"
   ]
  },
  {
   "cell_type": "code",
   "execution_count": 3,
   "id": "8c63ee77",
   "metadata": {},
   "outputs": [
    {
     "data": {
      "text/html": [
       "<div>\n",
       "<style scoped>\n",
       "    .dataframe tbody tr th:only-of-type {\n",
       "        vertical-align: middle;\n",
       "    }\n",
       "\n",
       "    .dataframe tbody tr th {\n",
       "        vertical-align: top;\n",
       "    }\n",
       "\n",
       "    .dataframe thead th {\n",
       "        text-align: right;\n",
       "    }\n",
       "</style>\n",
       "<table border=\"1\" class=\"dataframe\">\n",
       "  <thead>\n",
       "    <tr style=\"text-align: right;\">\n",
       "      <th></th>\n",
       "      <th>id</th>\n",
       "      <th>target</th>\n",
       "      <th>ps_ind_01</th>\n",
       "      <th>ps_ind_02_cat</th>\n",
       "      <th>ps_ind_03</th>\n",
       "      <th>ps_ind_04_cat</th>\n",
       "      <th>ps_ind_05_cat</th>\n",
       "      <th>ps_ind_06_bin</th>\n",
       "      <th>ps_ind_07_bin</th>\n",
       "      <th>ps_ind_08_bin</th>\n",
       "      <th>...</th>\n",
       "      <th>ps_calc_11</th>\n",
       "      <th>ps_calc_12</th>\n",
       "      <th>ps_calc_13</th>\n",
       "      <th>ps_calc_14</th>\n",
       "      <th>ps_calc_15_bin</th>\n",
       "      <th>ps_calc_16_bin</th>\n",
       "      <th>ps_calc_17_bin</th>\n",
       "      <th>ps_calc_18_bin</th>\n",
       "      <th>ps_calc_19_bin</th>\n",
       "      <th>ps_calc_20_bin</th>\n",
       "    </tr>\n",
       "  </thead>\n",
       "  <tbody>\n",
       "    <tr>\n",
       "      <th>0</th>\n",
       "      <td>7</td>\n",
       "      <td>0</td>\n",
       "      <td>2</td>\n",
       "      <td>2</td>\n",
       "      <td>5</td>\n",
       "      <td>1</td>\n",
       "      <td>0</td>\n",
       "      <td>0</td>\n",
       "      <td>1</td>\n",
       "      <td>0</td>\n",
       "      <td>...</td>\n",
       "      <td>9</td>\n",
       "      <td>1</td>\n",
       "      <td>5</td>\n",
       "      <td>8</td>\n",
       "      <td>0</td>\n",
       "      <td>1</td>\n",
       "      <td>1</td>\n",
       "      <td>0</td>\n",
       "      <td>0</td>\n",
       "      <td>1</td>\n",
       "    </tr>\n",
       "    <tr>\n",
       "      <th>1</th>\n",
       "      <td>9</td>\n",
       "      <td>0</td>\n",
       "      <td>1</td>\n",
       "      <td>1</td>\n",
       "      <td>7</td>\n",
       "      <td>0</td>\n",
       "      <td>0</td>\n",
       "      <td>0</td>\n",
       "      <td>0</td>\n",
       "      <td>1</td>\n",
       "      <td>...</td>\n",
       "      <td>3</td>\n",
       "      <td>1</td>\n",
       "      <td>1</td>\n",
       "      <td>9</td>\n",
       "      <td>0</td>\n",
       "      <td>1</td>\n",
       "      <td>1</td>\n",
       "      <td>0</td>\n",
       "      <td>1</td>\n",
       "      <td>0</td>\n",
       "    </tr>\n",
       "    <tr>\n",
       "      <th>2</th>\n",
       "      <td>13</td>\n",
       "      <td>0</td>\n",
       "      <td>5</td>\n",
       "      <td>4</td>\n",
       "      <td>9</td>\n",
       "      <td>1</td>\n",
       "      <td>0</td>\n",
       "      <td>0</td>\n",
       "      <td>0</td>\n",
       "      <td>1</td>\n",
       "      <td>...</td>\n",
       "      <td>4</td>\n",
       "      <td>2</td>\n",
       "      <td>7</td>\n",
       "      <td>7</td>\n",
       "      <td>0</td>\n",
       "      <td>1</td>\n",
       "      <td>1</td>\n",
       "      <td>0</td>\n",
       "      <td>1</td>\n",
       "      <td>0</td>\n",
       "    </tr>\n",
       "    <tr>\n",
       "      <th>3</th>\n",
       "      <td>16</td>\n",
       "      <td>0</td>\n",
       "      <td>0</td>\n",
       "      <td>1</td>\n",
       "      <td>2</td>\n",
       "      <td>0</td>\n",
       "      <td>0</td>\n",
       "      <td>1</td>\n",
       "      <td>0</td>\n",
       "      <td>0</td>\n",
       "      <td>...</td>\n",
       "      <td>2</td>\n",
       "      <td>2</td>\n",
       "      <td>4</td>\n",
       "      <td>9</td>\n",
       "      <td>0</td>\n",
       "      <td>0</td>\n",
       "      <td>0</td>\n",
       "      <td>0</td>\n",
       "      <td>0</td>\n",
       "      <td>0</td>\n",
       "    </tr>\n",
       "    <tr>\n",
       "      <th>4</th>\n",
       "      <td>17</td>\n",
       "      <td>0</td>\n",
       "      <td>0</td>\n",
       "      <td>2</td>\n",
       "      <td>0</td>\n",
       "      <td>1</td>\n",
       "      <td>0</td>\n",
       "      <td>1</td>\n",
       "      <td>0</td>\n",
       "      <td>0</td>\n",
       "      <td>...</td>\n",
       "      <td>3</td>\n",
       "      <td>1</td>\n",
       "      <td>1</td>\n",
       "      <td>3</td>\n",
       "      <td>0</td>\n",
       "      <td>0</td>\n",
       "      <td>0</td>\n",
       "      <td>1</td>\n",
       "      <td>1</td>\n",
       "      <td>0</td>\n",
       "    </tr>\n",
       "    <tr>\n",
       "      <th>...</th>\n",
       "      <td>...</td>\n",
       "      <td>...</td>\n",
       "      <td>...</td>\n",
       "      <td>...</td>\n",
       "      <td>...</td>\n",
       "      <td>...</td>\n",
       "      <td>...</td>\n",
       "      <td>...</td>\n",
       "      <td>...</td>\n",
       "      <td>...</td>\n",
       "      <td>...</td>\n",
       "      <td>...</td>\n",
       "      <td>...</td>\n",
       "      <td>...</td>\n",
       "      <td>...</td>\n",
       "      <td>...</td>\n",
       "      <td>...</td>\n",
       "      <td>...</td>\n",
       "      <td>...</td>\n",
       "      <td>...</td>\n",
       "      <td>...</td>\n",
       "    </tr>\n",
       "    <tr>\n",
       "      <th>595207</th>\n",
       "      <td>1488013</td>\n",
       "      <td>0</td>\n",
       "      <td>3</td>\n",
       "      <td>1</td>\n",
       "      <td>10</td>\n",
       "      <td>0</td>\n",
       "      <td>0</td>\n",
       "      <td>0</td>\n",
       "      <td>0</td>\n",
       "      <td>0</td>\n",
       "      <td>...</td>\n",
       "      <td>4</td>\n",
       "      <td>1</td>\n",
       "      <td>9</td>\n",
       "      <td>6</td>\n",
       "      <td>0</td>\n",
       "      <td>1</td>\n",
       "      <td>1</td>\n",
       "      <td>0</td>\n",
       "      <td>1</td>\n",
       "      <td>1</td>\n",
       "    </tr>\n",
       "    <tr>\n",
       "      <th>595208</th>\n",
       "      <td>1488016</td>\n",
       "      <td>0</td>\n",
       "      <td>5</td>\n",
       "      <td>1</td>\n",
       "      <td>3</td>\n",
       "      <td>0</td>\n",
       "      <td>0</td>\n",
       "      <td>0</td>\n",
       "      <td>0</td>\n",
       "      <td>0</td>\n",
       "      <td>...</td>\n",
       "      <td>4</td>\n",
       "      <td>1</td>\n",
       "      <td>3</td>\n",
       "      <td>8</td>\n",
       "      <td>1</td>\n",
       "      <td>0</td>\n",
       "      <td>1</td>\n",
       "      <td>0</td>\n",
       "      <td>1</td>\n",
       "      <td>1</td>\n",
       "    </tr>\n",
       "    <tr>\n",
       "      <th>595209</th>\n",
       "      <td>1488017</td>\n",
       "      <td>0</td>\n",
       "      <td>1</td>\n",
       "      <td>1</td>\n",
       "      <td>10</td>\n",
       "      <td>0</td>\n",
       "      <td>0</td>\n",
       "      <td>1</td>\n",
       "      <td>0</td>\n",
       "      <td>0</td>\n",
       "      <td>...</td>\n",
       "      <td>3</td>\n",
       "      <td>2</td>\n",
       "      <td>2</td>\n",
       "      <td>6</td>\n",
       "      <td>0</td>\n",
       "      <td>0</td>\n",
       "      <td>1</td>\n",
       "      <td>0</td>\n",
       "      <td>0</td>\n",
       "      <td>0</td>\n",
       "    </tr>\n",
       "    <tr>\n",
       "      <th>595210</th>\n",
       "      <td>1488021</td>\n",
       "      <td>0</td>\n",
       "      <td>5</td>\n",
       "      <td>2</td>\n",
       "      <td>3</td>\n",
       "      <td>1</td>\n",
       "      <td>0</td>\n",
       "      <td>0</td>\n",
       "      <td>0</td>\n",
       "      <td>1</td>\n",
       "      <td>...</td>\n",
       "      <td>4</td>\n",
       "      <td>1</td>\n",
       "      <td>4</td>\n",
       "      <td>2</td>\n",
       "      <td>0</td>\n",
       "      <td>1</td>\n",
       "      <td>1</td>\n",
       "      <td>1</td>\n",
       "      <td>0</td>\n",
       "      <td>0</td>\n",
       "    </tr>\n",
       "    <tr>\n",
       "      <th>595211</th>\n",
       "      <td>1488027</td>\n",
       "      <td>0</td>\n",
       "      <td>0</td>\n",
       "      <td>1</td>\n",
       "      <td>8</td>\n",
       "      <td>0</td>\n",
       "      <td>0</td>\n",
       "      <td>1</td>\n",
       "      <td>0</td>\n",
       "      <td>0</td>\n",
       "      <td>...</td>\n",
       "      <td>4</td>\n",
       "      <td>4</td>\n",
       "      <td>3</td>\n",
       "      <td>8</td>\n",
       "      <td>0</td>\n",
       "      <td>1</td>\n",
       "      <td>0</td>\n",
       "      <td>0</td>\n",
       "      <td>0</td>\n",
       "      <td>0</td>\n",
       "    </tr>\n",
       "  </tbody>\n",
       "</table>\n",
       "<p>595212 rows × 59 columns</p>\n",
       "</div>"
      ],
      "text/plain": [
       "             id  target  ps_ind_01  ps_ind_02_cat  ps_ind_03  ps_ind_04_cat  \\\n",
       "0             7       0          2              2          5              1   \n",
       "1             9       0          1              1          7              0   \n",
       "2            13       0          5              4          9              1   \n",
       "3            16       0          0              1          2              0   \n",
       "4            17       0          0              2          0              1   \n",
       "...         ...     ...        ...            ...        ...            ...   \n",
       "595207  1488013       0          3              1         10              0   \n",
       "595208  1488016       0          5              1          3              0   \n",
       "595209  1488017       0          1              1         10              0   \n",
       "595210  1488021       0          5              2          3              1   \n",
       "595211  1488027       0          0              1          8              0   \n",
       "\n",
       "        ps_ind_05_cat  ps_ind_06_bin  ps_ind_07_bin  ps_ind_08_bin  ...  \\\n",
       "0                   0              0              1              0  ...   \n",
       "1                   0              0              0              1  ...   \n",
       "2                   0              0              0              1  ...   \n",
       "3                   0              1              0              0  ...   \n",
       "4                   0              1              0              0  ...   \n",
       "...               ...            ...            ...            ...  ...   \n",
       "595207              0              0              0              0  ...   \n",
       "595208              0              0              0              0  ...   \n",
       "595209              0              1              0              0  ...   \n",
       "595210              0              0              0              1  ...   \n",
       "595211              0              1              0              0  ...   \n",
       "\n",
       "        ps_calc_11  ps_calc_12  ps_calc_13  ps_calc_14  ps_calc_15_bin  \\\n",
       "0                9           1           5           8               0   \n",
       "1                3           1           1           9               0   \n",
       "2                4           2           7           7               0   \n",
       "3                2           2           4           9               0   \n",
       "4                3           1           1           3               0   \n",
       "...            ...         ...         ...         ...             ...   \n",
       "595207           4           1           9           6               0   \n",
       "595208           4           1           3           8               1   \n",
       "595209           3           2           2           6               0   \n",
       "595210           4           1           4           2               0   \n",
       "595211           4           4           3           8               0   \n",
       "\n",
       "        ps_calc_16_bin  ps_calc_17_bin  ps_calc_18_bin  ps_calc_19_bin  \\\n",
       "0                    1               1               0               0   \n",
       "1                    1               1               0               1   \n",
       "2                    1               1               0               1   \n",
       "3                    0               0               0               0   \n",
       "4                    0               0               1               1   \n",
       "...                ...             ...             ...             ...   \n",
       "595207               1               1               0               1   \n",
       "595208               0               1               0               1   \n",
       "595209               0               1               0               0   \n",
       "595210               1               1               1               0   \n",
       "595211               1               0               0               0   \n",
       "\n",
       "        ps_calc_20_bin  \n",
       "0                    1  \n",
       "1                    0  \n",
       "2                    0  \n",
       "3                    0  \n",
       "4                    0  \n",
       "...                ...  \n",
       "595207               1  \n",
       "595208               1  \n",
       "595209               0  \n",
       "595210               0  \n",
       "595211               0  \n",
       "\n",
       "[595212 rows x 59 columns]"
      ]
     },
     "execution_count": 3,
     "metadata": {},
     "output_type": "execute_result"
    }
   ],
   "source": [
    "## Loading the data\n",
    "data=pd.read_csv('train.csv')\n",
    "data"
   ]
  },
  {
   "cell_type": "markdown",
   "id": "74e75557",
   "metadata": {},
   "source": [
    "# Basic checks"
   ]
  },
  {
   "cell_type": "code",
   "execution_count": null,
   "id": "86c9356c",
   "metadata": {},
   "outputs": [],
   "source": [
    "pd.set_option('display.max_columns',None)  #we use set_option to display all the columns from the dataset"
   ]
  },
  {
   "cell_type": "code",
   "execution_count": null,
   "id": "8ef65eff",
   "metadata": {},
   "outputs": [],
   "source": [
    "data.head()  #first five rows"
   ]
  },
  {
   "cell_type": "code",
   "execution_count": null,
   "id": "e1a69d8b",
   "metadata": {},
   "outputs": [],
   "source": [
    "data.tail() #last five rows"
   ]
  },
  {
   "cell_type": "code",
   "execution_count": null,
   "id": "558d515f",
   "metadata": {},
   "outputs": [],
   "source": [
    "data.columns  ## Getting all columns form the dataset"
   ]
  },
  {
   "cell_type": "code",
   "execution_count": null,
   "id": "a003324b",
   "metadata": {},
   "outputs": [],
   "source": [
    "data.shape"
   ]
  },
  {
   "cell_type": "code",
   "execution_count": null,
   "id": "2c5ee2f0",
   "metadata": {},
   "outputs": [],
   "source": [
    "data.describe() ##used to view some basic statistical details like percentile, mean, std etc. "
   ]
  },
  {
   "cell_type": "code",
   "execution_count": null,
   "id": "12051152",
   "metadata": {},
   "outputs": [],
   "source": [
    "data.info()#To check  data type and  null value of all columns "
   ]
  },
  {
   "cell_type": "code",
   "execution_count": null,
   "id": "ef9ad84d",
   "metadata": {},
   "outputs": [],
   "source": [
    "data.target.value_counts() #data is not balanced we have to balance the data"
   ]
  },
  {
   "cell_type": "markdown",
   "id": "66bb1e60",
   "metadata": {},
   "source": [
    "# EDA"
   ]
  },
  {
   "cell_type": "code",
   "execution_count": null,
   "id": "657b278a",
   "metadata": {},
   "outputs": [],
   "source": [
    "#Due to privacy concerns, the company has not shared the names of the features.\n",
    "#so we can skip the EDA part and move directly towards the modelling."
   ]
  },
  {
   "cell_type": "markdown",
   "id": "8ead4b47",
   "metadata": {},
   "source": [
    "# Data Preprocessing"
   ]
  },
  {
   "cell_type": "markdown",
   "id": "ceac8ebd",
   "metadata": {},
   "source": [
    "## Checking missing values/null values"
   ]
  },
  {
   "cell_type": "code",
   "execution_count": null,
   "id": "07420d36",
   "metadata": {},
   "outputs": [],
   "source": [
    "data.isnull().sum() #null value checking \n",
    "# no null values"
   ]
  },
  {
   "cell_type": "code",
   "execution_count": null,
   "id": "3a7de188",
   "metadata": {},
   "outputs": [],
   "source": [
    "data.duplicated().sum() # no duplicate value in this data"
   ]
  },
  {
   "cell_type": "code",
   "execution_count": null,
   "id": "3b15bf9a",
   "metadata": {},
   "outputs": [],
   "source": [
    "data.drop('id',axis=1,inplace=True) # id column is unnecessary so we are removing"
   ]
  },
  {
   "cell_type": "code",
   "execution_count": null,
   "id": "ed78fd68",
   "metadata": {},
   "outputs": [],
   "source": [
    "#handling with null values:this dataset has no null values\n",
    "data.isnull().sum()"
   ]
  },
  {
   "cell_type": "markdown",
   "id": "8b766567",
   "metadata": {},
   "source": [
    "# Data is normal dustribtion or not"
   ]
  },
  {
   "cell_type": "code",
   "execution_count": null,
   "id": "53df88f2",
   "metadata": {},
   "outputs": [],
   "source": [
    "plt.figure(figsize=(10,155),facecolor=\"white\")\n",
    "plotnumber=1\n",
    "for column in data.drop(\"target\",axis=1):\n",
    "    if plotnumber<=58:\n",
    "        ax=plt.subplot(29,2,plotnumber)\n",
    "        sns.distplot(x=data[column])\n",
    "        plt.xlabel(column,fontsize=10)\n",
    "        plt.ylabel(\"count\",fontsize=10)\n",
    "    plotnumber+=1\n",
    "plt.tight_layout() "
   ]
  },
  {
   "cell_type": "markdown",
   "id": "3c5938e6",
   "metadata": {},
   "source": [
    "## Handling With Outlier"
   ]
  },
  {
   "cell_type": "code",
   "execution_count": null,
   "id": "65a83833",
   "metadata": {},
   "outputs": [],
   "source": [
    "plt.figure(figsize=(10,155),facecolor='white')\n",
    "plotnumber=1\n",
    "for column in data.drop('target',axis=1) :\n",
    "    if plotnumber<=58:\n",
    "        ax=plt.subplot(29,2,plotnumber)\n",
    "        sns.boxplot(x=data[column])\n",
    "        plt.xlabel(column)\n",
    "        plt.ylabel('count')\n",
    "    plotnumber+=1\n",
    "plt.tight_layout() "
   ]
  },
  {
   "cell_type": "code",
   "execution_count": null,
   "id": "108e21c0",
   "metadata": {},
   "outputs": [],
   "source": [
    "# Function to handle outliers\n",
    "def handle_outliers(data, column):\n",
    "    # Calculate Q1 and Q3\n",
    "    Q1 = data[column].quantile(0.25)\n",
    "    Q3 = data[column].quantile(0.75)\n",
    "    \n",
    "    # Calculate IQR\n",
    "    IQR = Q3 - Q1\n",
    "    \n",
    "    # Calculate lower and upper limits\n",
    "    lower_limit = Q1 - 1.5 * IQR\n",
    "    upper_limit = Q3 + 1.5 * IQR\n",
    "    \n",
    "    # Replace outlier values with the median\n",
    "    data.loc[data[column] > upper_limit, column] = data[column].median()\n",
    "    data.loc[data[column] < lower_limit, column] = data[column].median()\n",
    "\n",
    "# Iterate over the columns of the dataframe (excluding the 'target' column)\n",
    "for column in data.drop('target', axis=1).columns:\n",
    "    # Handle outliers for the current column\n",
    "    handle_outliers(data, column)\n"
   ]
  },
  {
   "cell_type": "code",
   "execution_count": null,
   "id": "7a89fa3a",
   "metadata": {},
   "outputs": [],
   "source": [
    "plt.figure(figsize=(10,155),facecolor='white')\n",
    "plotnumber=1\n",
    "for column in data.drop('target',axis=1) :\n",
    "    if plotnumber<=58:\n",
    "        ax=plt.subplot(29,2,plotnumber)\n",
    "        sns.boxplot(x=data[column])\n",
    "        plt.xlabel(column)\n",
    "        plt.ylabel('count')\n",
    "    plotnumber+=1\n",
    "plt.tight_layout()"
   ]
  },
  {
   "cell_type": "markdown",
   "id": "1aef6c7e",
   "metadata": {},
   "source": [
    "# Scaling"
   ]
  },
  {
   "cell_type": "code",
   "execution_count": null,
   "id": "6d8ffe05",
   "metadata": {},
   "outputs": [],
   "source": [
    "# min max scaler     \n",
    "from sklearn.preprocessing import MinMaxScaler\n",
    "scaling=MinMaxScaler()\n",
    "df=[\"target\"]\n",
    "data1=scaling.fit_transform(data.drop(df,axis=1))"
   ]
  },
  {
   "cell_type": "code",
   "execution_count": null,
   "id": "83efcfc4",
   "metadata": {},
   "outputs": [],
   "source": [
    "data1"
   ]
  },
  {
   "cell_type": "code",
   "execution_count": null,
   "id": "67b67b9a",
   "metadata": {},
   "outputs": [],
   "source": [
    "# to covert array to dataframe\n",
    "data2=pd.DataFrame(data1,columns=[ 'ps_ind_01', 'ps_ind_02_cat', 'ps_ind_03',\n",
    "       'ps_ind_04_cat', 'ps_ind_05_cat', 'ps_ind_06_bin', 'ps_ind_07_bin',\n",
    "       'ps_ind_08_bin', 'ps_ind_09_bin', 'ps_ind_10_bin', 'ps_ind_11_bin',\n",
    "       'ps_ind_12_bin', 'ps_ind_13_bin', 'ps_ind_14', 'ps_ind_15',\n",
    "       'ps_ind_16_bin', 'ps_ind_17_bin', 'ps_ind_18_bin', 'ps_reg_01',\n",
    "       'ps_reg_02', 'ps_reg_03', 'ps_car_01_cat', 'ps_car_02_cat',\n",
    "       'ps_car_03_cat', 'ps_car_04_cat', 'ps_car_05_cat', 'ps_car_06_cat',\n",
    "       'ps_car_07_cat', 'ps_car_08_cat', 'ps_car_09_cat', 'ps_car_10_cat',\n",
    "       'ps_car_11_cat', 'ps_car_11', 'ps_car_12', 'ps_car_13', 'ps_car_14',\n",
    "       'ps_car_15', 'ps_calc_01', 'ps_calc_02', 'ps_calc_03', 'ps_calc_04',\n",
    "       'ps_calc_05', 'ps_calc_06', 'ps_calc_07', 'ps_calc_08', 'ps_calc_09',\n",
    "       'ps_calc_10', 'ps_calc_11', 'ps_calc_12', 'ps_calc_13', 'ps_calc_14',\n",
    "       'ps_calc_15_bin', 'ps_calc_16_bin', 'ps_calc_17_bin', 'ps_calc_18_bin',\n",
    "       'ps_calc_19_bin', 'ps_calc_20_bin'])\n",
    "data2"
   ]
  },
  {
   "cell_type": "code",
   "execution_count": null,
   "id": "8233788b",
   "metadata": {},
   "outputs": [],
   "source": [
    "df1=data[[\"target\"]]\n",
    "df1"
   ]
  },
  {
   "cell_type": "code",
   "execution_count": null,
   "id": "077c6e08",
   "metadata": {},
   "outputs": [],
   "source": [
    "new_data=pd.concat([data2,df1],axis=1)\n",
    "new_data"
   ]
  },
  {
   "cell_type": "markdown",
   "id": "d12f3bec",
   "metadata": {},
   "source": [
    "# Feature Selection"
   ]
  },
  {
   "cell_type": "code",
   "execution_count": null,
   "id": "5b69d637",
   "metadata": {
    "scrolled": true
   },
   "outputs": [],
   "source": [
    "plt.figure(figsize=(100,100))\n",
    "sns.heatmap(data.corr(),annot=True)\n",
    "# every column is necessary for this dataset as you see in the graph"
   ]
  },
  {
   "cell_type": "markdown",
   "id": "d98cb4b9",
   "metadata": {},
   "source": [
    "# Model Creation"
   ]
  },
  {
   "cell_type": "markdown",
   "id": "625fcc5b",
   "metadata": {},
   "source": [
    "## Split the data into x and y"
   ]
  },
  {
   "cell_type": "code",
   "execution_count": null,
   "id": "88f1ff07",
   "metadata": {},
   "outputs": [],
   "source": [
    "x=data.iloc[:,1:]\n",
    "y=data.target"
   ]
  },
  {
   "cell_type": "code",
   "execution_count": null,
   "id": "c8ede193",
   "metadata": {},
   "outputs": [],
   "source": [
    "#spliting the data into training and testing\n",
    "from sklearn.model_selection import train_test_split\n",
    "x_train,x_test,y_train,y_test=train_test_split(x,y,test_size=0.25,random_state=79)"
   ]
  },
  {
   "cell_type": "markdown",
   "id": "43833bd0",
   "metadata": {},
   "source": [
    "## Balancing the data"
   ]
  },
  {
   "cell_type": "code",
   "execution_count": null,
   "id": "36b91023",
   "metadata": {},
   "outputs": [],
   "source": [
    "from imblearn.over_sampling import SMOTE # we are using balancing here because the data is not balanced\n",
    "sm=SMOTE()\n",
    "x_sm,y_sm=sm.fit_resample(x_train,y_train)"
   ]
  },
  {
   "cell_type": "code",
   "execution_count": null,
   "id": "37e41aaf",
   "metadata": {},
   "outputs": [],
   "source": [
    "from collections import Counter\n",
    "print('Actual classes',Counter(y_train))\n",
    "print('SMOTE classes',Counter(y_sm))"
   ]
  },
  {
   "cell_type": "code",
   "execution_count": null,
   "id": "956d4be6",
   "metadata": {},
   "outputs": [],
   "source": [
    "from sklearn.metrics import accuracy_score,recall_score,precision_score,f1_score,roc_auc_score,classification_report"
   ]
  },
  {
   "cell_type": "markdown",
   "id": "9023b9be",
   "metadata": {},
   "source": [
    "# Apply Logistic Regression"
   ]
  },
  {
   "cell_type": "code",
   "execution_count": null,
   "id": "449ad24f",
   "metadata": {},
   "outputs": [],
   "source": [
    "#import logistic regression\n",
    "from sklearn.linear_model import LogisticRegression\n",
    "model=LogisticRegression()\n",
    "##Train model with x_train and y_train\n",
    "model.fit(x_sm,y_sm)"
   ]
  },
  {
   "cell_type": "code",
   "execution_count": null,
   "id": "aea95be4",
   "metadata": {},
   "outputs": [],
   "source": [
    "y_pred_train=model.predict(x_train)"
   ]
  },
  {
   "cell_type": "code",
   "execution_count": null,
   "id": "0bb59c5f",
   "metadata": {},
   "outputs": [],
   "source": [
    "y_pred_test=model.predict(x_test)"
   ]
  },
  {
   "cell_type": "code",
   "execution_count": null,
   "id": "5fb92516",
   "metadata": {},
   "outputs": [],
   "source": [
    "accuracy_score(y_train,y_pred_train)"
   ]
  },
  {
   "cell_type": "code",
   "execution_count": null,
   "id": "d5184306",
   "metadata": {},
   "outputs": [],
   "source": [
    "accuracy_score(y_test,y_pred_test)"
   ]
  },
  {
   "cell_type": "code",
   "execution_count": null,
   "id": "31b726fb",
   "metadata": {},
   "outputs": [],
   "source": [
    "precision_score(y_train,y_pred_train)"
   ]
  },
  {
   "cell_type": "code",
   "execution_count": null,
   "id": "20bbe9d1",
   "metadata": {},
   "outputs": [],
   "source": [
    "precision_score(y_test,y_pred_test)"
   ]
  },
  {
   "cell_type": "code",
   "execution_count": null,
   "id": "d22924d7",
   "metadata": {},
   "outputs": [],
   "source": [
    "recall_score(y_train,y_pred_train)"
   ]
  },
  {
   "cell_type": "code",
   "execution_count": null,
   "id": "6b6be361",
   "metadata": {},
   "outputs": [],
   "source": [
    "recall_score(y_test,y_pred_test)"
   ]
  },
  {
   "cell_type": "code",
   "execution_count": null,
   "id": "cc013ce3",
   "metadata": {},
   "outputs": [],
   "source": [
    "f1_score(y_train,y_pred_train)"
   ]
  },
  {
   "cell_type": "code",
   "execution_count": null,
   "id": "3c05dbce",
   "metadata": {},
   "outputs": [],
   "source": [
    "f1_score(y_test,y_pred_test)"
   ]
  },
  {
   "cell_type": "code",
   "execution_count": null,
   "id": "a935c7dd",
   "metadata": {},
   "outputs": [],
   "source": [
    "roc_auc_score(y_train,y_pred_train)"
   ]
  },
  {
   "cell_type": "code",
   "execution_count": null,
   "id": "16477c0c",
   "metadata": {},
   "outputs": [],
   "source": [
    "roc_auc_score(y_test,y_pred_test)"
   ]
  },
  {
   "cell_type": "markdown",
   "id": "deb08f16",
   "metadata": {},
   "source": [
    "# cross validation"
   ]
  },
  {
   "cell_type": "code",
   "execution_count": null,
   "id": "fba33b61",
   "metadata": {},
   "outputs": [],
   "source": [
    "from sklearn.model_selection import cross_val_score\n",
    "score=cross_val_score(model,x,y,cv=5,scoring='accuracy')\n",
    "print(score)\n",
    "print('cross validation score:',score.mean())\n",
    "print('std:',score.std())\n"
   ]
  },
  {
   "cell_type": "markdown",
   "id": "de7d7ab5",
   "metadata": {},
   "source": [
    "The mean cross-validation score is quite high, indicating that, on average, your model performs well across different subsets of the data. \n",
    "\n",
    "The low standard deviation suggests that the model's performance is consistent across folds"
   ]
  },
  {
   "cell_type": "markdown",
   "id": "8d26bb48",
   "metadata": {},
   "source": [
    "# Hyperparameter tuning"
   ]
  },
  {
   "cell_type": "code",
   "execution_count": null,
   "id": "136b139f",
   "metadata": {},
   "outputs": [],
   "source": [
    "from sklearn.linear_model import LogisticRegression\n",
    "from sklearn.model_selection import RandomizedSearchCV\n",
    "\n",
    "# Define the hyperparameter grid\n",
    "param_grid = {\n",
    "    'solver': ['liblinear', 'newton-cg', 'lbfgs', 'sag', 'saga'],\n",
    "    'penalty': ['l1', 'l2'],\n",
    "    'C': [0.001, 0.01, 0.1, 1, 10, 100], \n",
    "    'max_iter': [50, 100, 200],\n",
    "    'class_weight': [None, 'balanced'],\n",
    "    'fit_intercept': [True, False],\n",
    "    'tol': [1e-4, 1e-3, 1e-2]\n",
    "}\n",
    "\n",
    "# Create a logistic regression model\n",
    "logreg = LogisticRegression(random_state=79)\n",
    "\n",
    "# Create GridSearchCV object\n",
    "grid_search = RandomizedSearchCV(logreg, param_grid,verbose=1, cv=5, scoring='accuracy')\n",
    "\n",
    "# Fit the grid search to your training data\n",
    "grid_search.fit(x_sm, y_sm)\n"
   ]
  },
  {
   "cell_type": "code",
   "execution_count": null,
   "id": "4d43ab90",
   "metadata": {},
   "outputs": [],
   "source": [
    "#print best parameter after tuning\n",
    "print(grid_search.best_params_)\n",
    "#print how much our model looks after hyperparameter tuning\n",
    "print(grid_search.best_estimator_)"
   ]
  },
  {
   "cell_type": "code",
   "execution_count": null,
   "id": "b2ebe8d3",
   "metadata": {},
   "outputs": [],
   "source": [
    "tuned_model=LogisticRegression(C=10, class_weight='balanced', max_iter=50, penalty='l1',\n",
    "                   random_state=79, solver='saga')"
   ]
  },
  {
   "cell_type": "code",
   "execution_count": null,
   "id": "0d01e695",
   "metadata": {},
   "outputs": [],
   "source": [
    "tuned_model.fit(x_sm,y_sm)"
   ]
  },
  {
   "cell_type": "code",
   "execution_count": null,
   "id": "d3c31a03",
   "metadata": {},
   "outputs": [],
   "source": [
    "tuned_ypred_train=tuned_model.predict(x_train)"
   ]
  },
  {
   "cell_type": "code",
   "execution_count": null,
   "id": "8685f4cc",
   "metadata": {},
   "outputs": [],
   "source": [
    "tuned_ypred_test=tuned_model.predict(x_test)"
   ]
  },
  {
   "cell_type": "code",
   "execution_count": null,
   "id": "4ce1d3be",
   "metadata": {},
   "outputs": [],
   "source": [
    "accuracy_score(y_train,tuned_ypred_train)"
   ]
  },
  {
   "cell_type": "code",
   "execution_count": null,
   "id": "9c9b86f8",
   "metadata": {},
   "outputs": [],
   "source": [
    "accuracy_score(y_test,tuned_ypred_test)"
   ]
  },
  {
   "cell_type": "code",
   "execution_count": null,
   "id": "e0009e3a",
   "metadata": {},
   "outputs": [],
   "source": [
    "precision_score(y_train,tuned_ypred_train)"
   ]
  },
  {
   "cell_type": "code",
   "execution_count": null,
   "id": "a344089b",
   "metadata": {},
   "outputs": [],
   "source": [
    "precision_score(y_test,tuned_ypred_test)"
   ]
  },
  {
   "cell_type": "code",
   "execution_count": null,
   "id": "010cfe5d",
   "metadata": {},
   "outputs": [],
   "source": [
    "recall_score(y_train,tuned_ypred_train)"
   ]
  },
  {
   "cell_type": "code",
   "execution_count": null,
   "id": "5a9f6f08",
   "metadata": {},
   "outputs": [],
   "source": [
    "recall_score(y_test,tuned_ypred_test)"
   ]
  },
  {
   "cell_type": "code",
   "execution_count": null,
   "id": "9dc21b0c",
   "metadata": {},
   "outputs": [],
   "source": [
    "f1_score(y_train,tuned_ypred_train)"
   ]
  },
  {
   "cell_type": "code",
   "execution_count": null,
   "id": "718d09f9",
   "metadata": {},
   "outputs": [],
   "source": [
    "f1_score(y_test,tuned_ypred_test)"
   ]
  },
  {
   "cell_type": "code",
   "execution_count": null,
   "id": "d18ebb8a",
   "metadata": {},
   "outputs": [],
   "source": [
    "roc_auc_score(y_train,tuned_ypred_train)"
   ]
  },
  {
   "cell_type": "code",
   "execution_count": null,
   "id": "dcc25b78",
   "metadata": {},
   "outputs": [],
   "source": [
    "roc_auc_score(y_test,tuned_ypred_test)"
   ]
  },
  {
   "cell_type": "code",
   "execution_count": null,
   "id": "d62c8be5",
   "metadata": {},
   "outputs": [],
   "source": [
    "print(classification_report(y_train,tuned_ypred_train))"
   ]
  },
  {
   "cell_type": "code",
   "execution_count": null,
   "id": "d0e63f59",
   "metadata": {},
   "outputs": [],
   "source": [
    "print(classification_report(y_test,tuned_ypred_test))"
   ]
  },
  {
   "cell_type": "markdown",
   "id": "fefec8db",
   "metadata": {},
   "source": [
    "# Task 2: Suggestions to the Insurance market team to make  customers  buy the product.\n",
    "\n",
    "Here are some suggestions for the insurance market team to boost customer acquisition and encourage purchases:\n",
    "\n",
    "* Clearly Communicate Value:\n",
    "\n",
    "Clearly articulate the value proposition of your insurance product. Explain how it meets the specific needs and concerns of customers.\n",
    "Highlight unique features, benefits, and coverage options that set your product apart from competitors.\n",
    "\n",
    "* Simplified Purchase Process:\n",
    "\n",
    "Streamline the purchasing process to make it simple and user-friendly.\n",
    "Implement a clear and intuitive online interface for purchasing policies, reducing the number of steps and minimizing friction.\n",
    "\n",
    "* Personalized Recommendations:\n",
    "\n",
    "Leverage customer data to provide personalized insurance recommendations.\n",
    "Offer tailored coverage options based on individual needs, demographics, or previous interactions with your platform.\n",
    "\n",
    "* Bundle Discounts:\n",
    "\n",
    "Introduce bundled insurance packages or multi-policy discounts to incentivize customers to purchase multiple products.\n",
    "Communicate potential cost savings and added convenience of bundling policies.\n",
    "\n",
    "* Promotional Offers and Discounts:\n",
    "\n",
    "Run limited-time promotions, discounts, or special offers to create a sense of urgency.\n",
    "Consider loyalty programs or referral incentives to reward existing customers and attract new ones.\n",
    "\n",
    "* Educational Content:\n",
    "\n",
    "Develop educational content that explains the importance of insurance and helps customers make informed decisions.\n",
    "Use blog posts, webinars, or infographics to address common concerns and highlight the value of your products.\n",
    "\n",
    "* Responsive Customer Support:\n",
    "\n",
    "Provide responsive and helpful customer support to assist potential buyers.\n",
    "Use live chat, chatbots, or dedicated customer service lines to address queries and concerns promptly.\n",
    "\n",
    "* Online Reviews and Testimonials:\n",
    "\n",
    "Showcase positive reviews and testimonials from satisfied customers.\n",
    "Encourage customers to share their experiences with your insurance products, building trust among potential buyers.\n",
    "\n",
    "* Mobile Accessibility:\n",
    "\n",
    "Optimize your online platform for mobile users, ensuring a seamless and responsive experience on smartphones and tablets.\n",
    "Consider developing a dedicated mobile app for easy access and navigation.\n",
    "Community Engagement:\n",
    "\n",
    "Build a sense of community around your insurance brand through social media.\n",
    "Engage with customers, address their questions, and share relevant content to foster a community that supports and advocates for your products.\n",
    "\n",
    "* Free Trials or Demos:\n",
    "\n",
    "Offer free trials or demos of your insurance products, allowing customers to experience the coverage before making a commitment.\n",
    "\n",
    "* Transparent Pricing:\n",
    "\n",
    "Provide transparent pricing information to build trust with potential buyers.\n",
    "Clearly outline what is covered and any potential additional costs, ensuring customers understand the value they are getting."
   ]
  },
  {
   "cell_type": "code",
   "execution_count": null,
   "id": "5f6debf1",
   "metadata": {},
   "outputs": [],
   "source": []
  },
  {
   "cell_type": "markdown",
   "id": "5f9ebf71",
   "metadata": {},
   "source": [
    "# Model Comparison Report\n",
    "Objective:\n",
    "The goal of this model comparison is to assess the performance of various machine learning and deep learning models for the given task.\n",
    "\n",
    "Models Evaluated:\n",
    "## 1. Logistic Regression (LR):\n",
    "* Accuracy: \n",
    "i)train:0.7796773810563855 ,\n",
    "ii)test:0.7815165016834338\n",
    "* Precision:\n",
    "i)train:0.03656070171517962 ,\n",
    "ii)test:0.03615508451837939\n",
    "\n",
    "* Recall:\n",
    "i)train:0.2005393478793822 ,\n",
    "ii)test:0.20044626255113426\n",
    "\n",
    "* F1 Score:\n",
    "i)train:0.07157151487690683 ,\n",
    "ii)test:0.07294191451139181\n",
    "* AUC-ROC:\n",
    "i)train:0.5156278099388996 ,\n",
    "ii)test:0.5223425356182992\n",
    "\n",
    "## 2. Decision Tree (DT):\n",
    "* Accuracy: \n",
    "i)train:1.0 ,\n",
    "ii)test:0.8923879222865131\n",
    "* Precision:\n",
    "i)train:0.0 ,\n",
    "ii)test:0.03737201365187713\n",
    "\n",
    "* Recall:\n",
    "i)train:0.0 ,\n",
    "ii)test:0.08144291558200074\n",
    "\n",
    "* F1 Score:\n",
    "i)train:0.0 ,\n",
    "ii)test:0.051234062463446015\n",
    "* AUC-ROC:\n",
    "i)train:0.5 ,\n",
    "ii)test:0.5013907971669809\n",
    "## 3. Random Forest (RF):\n",
    "* Accuracy: \n",
    "i)train:0.9999932797053823 ,\n",
    "ii)test:0.9547455360443002\n",
    "* Precision:\n",
    "i)train:0.037048302713225456 ,\n",
    "ii)test:0.03508771929824561\n",
    "\n",
    "* Recall:\n",
    "i)train:0.03732532483451827 ,\n",
    "ii)test:0.010784678319077723\n",
    "\n",
    "* F1 Score:\n",
    "i)train:0.037186297856750324 ,\n",
    "ii)test:0.01649836438628929\n",
    "\n",
    "* AUC-ROC:\n",
    "i)train:0.500260828395315 ,\n",
    "ii)test:0.49983194173928436\n",
    "## 4. XGBoost:\n",
    "* Accuracy: \n",
    "i)train:0.9632422285392992\n",
    "ii)test:0.9646714111946668\n",
    "* Precision:\n",
    "i)train:0.0 ,\n",
    "ii)test:0.0\n",
    "\n",
    "* Recall:\n",
    "i)train:0.0 ,\n",
    "ii)test:0.0\n",
    "\n",
    "* F1 Score:\n",
    "i)train:0.0 ,\n",
    "ii)test:0.0\n",
    "\n",
    "* AUC-ROC:\n",
    "i)train:0.4999511733508799 ,\n",
    "ii)test:0.4999581662890012\n",
    "## 5. Gradient Boost:\n",
    "* Accuracy: \n",
    "i)train:0.9325103212524837 ,\n",
    "ii)test:0.9332674744460797\n",
    "* Precision:\n",
    "i)train:0.050390625 ,\n",
    "ii)test:0.05090765588003157\n",
    "\n",
    "* Recall:\n",
    "i)train:0.047438097572934546 ,\n",
    "ii)test:0.04797322424693194\n",
    "\n",
    "* F1 Score:\n",
    "i)train:0.0488698067937871 ,\n",
    "ii)test:0.04939689833429064\n",
    "\n",
    "* AUC-ROC:\n",
    "i)train:0.5067622510706244 ,\n",
    "ii)test:0.5072182662981217\n",
    "## 6. ADA Boost:\n",
    "* Accuracy: \n",
    "i)train:0.84193643049311280 ,\n",
    "ii)test:0.8431483236225076\n",
    "* Precision:\n",
    "i)train:0.042768758745090105 ,\n",
    "ii)test:0.044620221072913496\n",
    "\n",
    "* Recall:\n",
    "i)train:0.1554915420446188 ,\n",
    "ii)test:0.16362960208255858\n",
    "\n",
    "* F1 Score:\n",
    "i)train:0.06708534408673232 ,\n",
    "ii)test:0.07011952191235059\n",
    "\n",
    "* AUC-ROC:\n",
    "i)train:0.5117344664904988 ,\n",
    "ii)test:0.5161289024880285\n",
    "## 7. Artificial Neural Network (ANN):\n",
    "* Accuracy: \n",
    "i)train:0.9634505576724484\n",
    "ii)test:0.9638582555459231\n",
    "* Precision:\n",
    "i)train:0.0 ,\n",
    "ii)test:0.0\n",
    "\n",
    "* Recall:\n",
    "i)train:0.0 ,\n",
    "ii)test:0.0\n",
    "\n",
    "* F1 Score:\n",
    "i)train:0.0 ,\n",
    "ii)test:0.0\n",
    "\n",
    "* AUC-ROC:\n",
    "i)train:0.5 ,\n",
    "ii)test:0.5\n",
    "\n",
    "\n",
    "\n",
    "\n",
    "\n",
    "\n",
    "## Conclusion:\n",
    "\n",
    "Neither model demonstrates strong performance based on the provided metrics.\n",
    "\n",
    "Gradient Boost performs better in terms of accuracy, precision, recall, and F1 score compared to Logistic Regression, but the values are still low.And Gradient Boost is taking too much timing than any algorithm.gradient boost is time consuming so we are selecting Logistic regression here.In terms of accuracy gradient boost is giving accuracy but it needs lot of computation power.\n",
    "\n",
    "Our final Algorithm is Logistic Regression\n",
    "\n",
    "It's important to note that the AUC-ROC values for both models are close to 0.5, suggesting limited ability to discriminate between positive and negative instances.\n",
    "\n",
    "Consider further investigation, feature engineering, or exploring other models that might better capture the underlying patterns in the data.\n",
    "\n",
    "Evaluate the specific goals of your task and the trade-offs between precision and recall to determine which model is more suitable for your application.\n",
    "\n",
    "so we are selecting Logistic Regression algorithm to train our model\n"
   ]
  },
  {
   "cell_type": "code",
   "execution_count": null,
   "id": "3859073d",
   "metadata": {},
   "outputs": [],
   "source": []
  },
  {
   "cell_type": "markdown",
   "id": "0bbb5a1d",
   "metadata": {},
   "source": [
    "#  Report for problem faced in the model\n",
    "\n",
    "## This report outlines the challenges encountered during the development of an insurance cost prediction model and the strategic decision to employ the XGBoost algorithm to address these challenges.\n",
    "\n",
    "1. Challenges in Data Quality:\n",
    "\n",
    "outliers were identified in the dataset, affecting the model's reliability.\n",
    "\n",
    "2. Challenges in Feature Selection:\n",
    "\n",
    "High Dimensionality: The dataset contained a large number of features, making it challenging to identify the most relevant ones for accurate predictions.\n",
    "\n",
    "3. Challenges in Model Performance:\n",
    "\n",
    "* Overfitting: Traditional machine learning models struggled with overfitting, especially given the complex relationships within insurance cost data.\n",
    "\n",
    "* Handling Imbalanced Data: The dataset exhibited class imbalance, with certain insurance cost categories being underrepresented.\n",
    "\n",
    "4. Technique Employed: Gradient Boost\n",
    "\n",
    "5. Reasons for Choosing Gradient Boost:\n",
    "\n",
    "* Other algorithms were giving less accuracy that's why i selected Gradient Boost here.\n",
    "* algorithms previosly we used here like : Gradient Boost,Decision tree,Random Forest,XGBoost, Ada boost,ANN"
   ]
  },
  {
   "cell_type": "code",
   "execution_count": null,
   "id": "f2dcca46",
   "metadata": {},
   "outputs": [],
   "source": []
  },
  {
   "cell_type": "code",
   "execution_count": null,
   "id": "bfdf8f4a",
   "metadata": {},
   "outputs": [],
   "source": []
  }
 ],
 "metadata": {
  "kernelspec": {
   "display_name": "Python 3 (ipykernel)",
   "language": "python",
   "name": "python3"
  },
  "language_info": {
   "codemirror_mode": {
    "name": "ipython",
    "version": 3
   },
   "file_extension": ".py",
   "mimetype": "text/x-python",
   "name": "python",
   "nbconvert_exporter": "python",
   "pygments_lexer": "ipython3",
   "version": "3.11.5"
  }
 },
 "nbformat": 4,
 "nbformat_minor": 5
}
